{
 "cells": [
  {
   "cell_type": "code",
   "execution_count": 258,
   "id": "44221161-e505-48f0-b3a5-7df8fddf5ab6",
   "metadata": {},
   "outputs": [],
   "source": [
    "## 라이브러리 import\n",
    "import pandas as pd\n",
    "import matplotlib as plt\n",
    "import numpy as np\n",
    "from sklearn.model_selection import train_test_split\n",
    "from sklearn.ensemble import RandomForestClassifier\n",
    "from sklearn.metrics import accuracy_score\n",
    "from sklearn.preprocessing import OneHotEncoder"
   ]
  },
  {
   "cell_type": "markdown",
   "id": "bfbb0e7d-5260-4cba-ad34-41af7f52d0fa",
   "metadata": {},
   "source": [
    "### 데이터 로드"
   ]
  },
  {
   "cell_type": "code",
   "execution_count": 259,
   "id": "d80f0775-f388-4536-94c7-674c2ec2c0ef",
   "metadata": {},
   "outputs": [],
   "source": [
    "sample = pd.read_csv('sample_submission.csv')\n",
    "test_df = pd.read_csv('test.csv')\n",
    "df = pd.read_csv('train.csv')"
   ]
  },
  {
   "cell_type": "markdown",
   "id": "7bc38ea3-8b4e-4f4b-8cab-e74e1258d9a0",
   "metadata": {},
   "source": [
    "### 필요 없는 Columns 제거"
   ]
  },
  {
   "cell_type": "code",
   "execution_count": 260,
   "id": "e2d3207b-38ea-42b1-890a-919ba7726ead",
   "metadata": {},
   "outputs": [],
   "source": [
    "## 'FLAG_MOBIL' 컬럼은 모두 1(휴대폰 모두 소유). 따라서 제거\n",
    "test_df.drop(['FLAG_MOBIL'], axis=1, inplace=True)\n",
    "df.drop(['FLAG_MOBIL'], axis=1, inplace=True)\n",
    "\n",
    "## 'occyp_type' 컬럼 유형은 결측값 존재해서 일단 제거\n",
    "test_df.drop(['occyp_type'], axis=1, inplace=True)\n",
    "df.drop(['occyp_type'], axis=1, inplace=True)\n",
    "\n",
    "## 여기 컬럼들은 간다하게 적용하기 그래서 제거\n",
    "## 추후 여기 지워야\n",
    "test_df.drop(['Education','family_type','gender','house_type','income_type'], axis=1, inplace=True)\n",
    "df.drop(['Education','family_type','gender','house_type','income_type'], axis=1, inplace=True)"
   ]
  },
  {
   "cell_type": "markdown",
   "id": "ef6b6bff-6780-4896-92be-c9151eb1805b",
   "metadata": {},
   "source": [
    "### 간단한 머신러닝 RF 적용"
   ]
  },
  {
   "cell_type": "code",
   "execution_count": 261,
   "id": "6f8d3497-b770-4905-a0bc-af83a35f47fd",
   "metadata": {},
   "outputs": [],
   "source": [
    "## train_test 셋 분리\n",
    "features = list(df.columns.difference(['credit']))\n",
    "target = df['credit']\n",
    "\n",
    "X = df[features]\n",
    "y = target.copy()\n",
    "\n",
    "X_train, X_test, y_train, y_test = train_test_split(X,y, test_size = 0.2, random_state = 0)"
   ]
  },
  {
   "cell_type": "code",
   "execution_count": 262,
   "id": "d3086607-fd17-4a60-96bf-1724db1ed3d0",
   "metadata": {},
   "outputs": [
    {
     "name": "stdout",
     "output_type": "stream",
     "text": [
      "(21165, 9) (5292, 9) (21165,) (5292,)\n"
     ]
    }
   ],
   "source": [
    "#개수 확인\n",
    "print(X_train.shape, X_test.shape,y_train.shape,y_test.shape)"
   ]
  },
  {
   "cell_type": "code",
   "execution_count": 263,
   "id": "2f16f43b-4b05-43ae-9e21-38c01b03fac2",
   "metadata": {},
   "outputs": [],
   "source": [
    "# ML 적용\n",
    "rf = RandomForestClassifier(random_state = 0)\n",
    "\n",
    "rf.fit(X_train, y_train)\n",
    "prd = rf.predict(X_test)"
   ]
  },
  {
   "cell_type": "code",
   "execution_count": 264,
   "id": "fbe8c3c7-9ac8-4370-945b-d5b3148127a8",
   "metadata": {},
   "outputs": [
    {
     "name": "stdout",
     "output_type": "stream",
     "text": [
      "0.7033257747543462\n"
     ]
    }
   ],
   "source": [
    "# 결과\n",
    "print(accuracy_score(y_test,prd))"
   ]
  },
  {
   "cell_type": "markdown",
   "id": "96b1be3b-c574-4ad1-af53-515134fb3f51",
   "metadata": {},
   "source": [
    "### 본 test셋 적용"
   ]
  },
  {
   "cell_type": "code",
   "execution_count": 265,
   "id": "1bc156da-bdf4-4dd5-98bf-c9bc4ebda09b",
   "metadata": {},
   "outputs": [],
   "source": [
    "## test셋 예측\n",
    "prd = rf.predict(test_df)"
   ]
  },
  {
   "cell_type": "code",
   "execution_count": 266,
   "id": "be3a48d9-6a03-40e4-9719-8e092a4a5fe3",
   "metadata": {},
   "outputs": [],
   "source": [
    "## one-hot-encoding 적용\n",
    "onehot = OneHotEncoder(sparse=False)\n",
    "prd = prd.reshape(-1,1)\n",
    "onehot.fit(prd)\n",
    "onehot_encode = onehot.transform(prd)\n",
    "test_y_df = pd.DataFrame(onehot_encode)"
   ]
  },
  {
   "cell_type": "code",
   "execution_count": 267,
   "id": "041d3d4d-a353-4459-9f54-d8d31cf2edc7",
   "metadata": {},
   "outputs": [
    {
     "data": {
      "text/html": [
       "<div>\n",
       "<style scoped>\n",
       "    .dataframe tbody tr th:only-of-type {\n",
       "        vertical-align: middle;\n",
       "    }\n",
       "\n",
       "    .dataframe tbody tr th {\n",
       "        vertical-align: top;\n",
       "    }\n",
       "\n",
       "    .dataframe thead th {\n",
       "        text-align: right;\n",
       "    }\n",
       "</style>\n",
       "<table border=\"1\" class=\"dataframe\">\n",
       "  <thead>\n",
       "    <tr style=\"text-align: right;\">\n",
       "      <th></th>\n",
       "      <th>index</th>\n",
       "      <th>0</th>\n",
       "      <th>1</th>\n",
       "      <th>2</th>\n",
       "    </tr>\n",
       "  </thead>\n",
       "  <tbody>\n",
       "    <tr>\n",
       "      <th>0</th>\n",
       "      <td>26457</td>\n",
       "      <td>1.0</td>\n",
       "      <td>0</td>\n",
       "      <td>0.0</td>\n",
       "    </tr>\n",
       "    <tr>\n",
       "      <th>1</th>\n",
       "      <td>26458</td>\n",
       "      <td>1.0</td>\n",
       "      <td>0</td>\n",
       "      <td>0.0</td>\n",
       "    </tr>\n",
       "    <tr>\n",
       "      <th>2</th>\n",
       "      <td>26459</td>\n",
       "      <td>1.0</td>\n",
       "      <td>0</td>\n",
       "      <td>0.0</td>\n",
       "    </tr>\n",
       "    <tr>\n",
       "      <th>3</th>\n",
       "      <td>26460</td>\n",
       "      <td>1.0</td>\n",
       "      <td>0</td>\n",
       "      <td>0.0</td>\n",
       "    </tr>\n",
       "    <tr>\n",
       "      <th>4</th>\n",
       "      <td>26461</td>\n",
       "      <td>1.0</td>\n",
       "      <td>0</td>\n",
       "      <td>0.0</td>\n",
       "    </tr>\n",
       "    <tr>\n",
       "      <th>...</th>\n",
       "      <td>...</td>\n",
       "      <td>...</td>\n",
       "      <td>...</td>\n",
       "      <td>...</td>\n",
       "    </tr>\n",
       "    <tr>\n",
       "      <th>9995</th>\n",
       "      <td>36452</td>\n",
       "      <td>1.0</td>\n",
       "      <td>0</td>\n",
       "      <td>0.0</td>\n",
       "    </tr>\n",
       "    <tr>\n",
       "      <th>9996</th>\n",
       "      <td>36453</td>\n",
       "      <td>1.0</td>\n",
       "      <td>0</td>\n",
       "      <td>0.0</td>\n",
       "    </tr>\n",
       "    <tr>\n",
       "      <th>9997</th>\n",
       "      <td>36454</td>\n",
       "      <td>1.0</td>\n",
       "      <td>0</td>\n",
       "      <td>0.0</td>\n",
       "    </tr>\n",
       "    <tr>\n",
       "      <th>9998</th>\n",
       "      <td>36455</td>\n",
       "      <td>1.0</td>\n",
       "      <td>0</td>\n",
       "      <td>0.0</td>\n",
       "    </tr>\n",
       "    <tr>\n",
       "      <th>9999</th>\n",
       "      <td>36456</td>\n",
       "      <td>0.0</td>\n",
       "      <td>0</td>\n",
       "      <td>1.0</td>\n",
       "    </tr>\n",
       "  </tbody>\n",
       "</table>\n",
       "<p>10000 rows × 4 columns</p>\n",
       "</div>"
      ],
      "text/plain": [
       "      index    0  1    2\n",
       "0     26457  1.0  0  0.0\n",
       "1     26458  1.0  0  0.0\n",
       "2     26459  1.0  0  0.0\n",
       "3     26460  1.0  0  0.0\n",
       "4     26461  1.0  0  0.0\n",
       "...     ...  ... ..  ...\n",
       "9995  36452  1.0  0  0.0\n",
       "9996  36453  1.0  0  0.0\n",
       "9997  36454  1.0  0  0.0\n",
       "9998  36455  1.0  0  0.0\n",
       "9999  36456  0.0  0  1.0\n",
       "\n",
       "[10000 rows x 4 columns]"
      ]
     },
     "execution_count": 267,
     "metadata": {},
     "output_type": "execute_result"
    }
   ],
   "source": [
    "## 제출을 위해 정리\n",
    "test_y_df.columns = [0,2]\n",
    "test_y_df[1] = 0\n",
    "test_y_df = test_y_df[[0,1,2]]\n",
    "test_y_df.columns = [0,1,2]\n",
    "sample[['0','1','2']] = test_y_df\n",
    "sample"
   ]
  },
  {
   "cell_type": "code",
   "execution_count": 270,
   "id": "56053f36-7dce-4146-b764-5d9eefaf4700",
   "metadata": {},
   "outputs": [],
   "source": [
    "sample.to_csv('first.csv', index=False)"
   ]
  }
 ],
 "metadata": {
  "kernelspec": {
   "display_name": "class",
   "language": "python",
   "name": "class"
  },
  "language_info": {
   "codemirror_mode": {
    "name": "ipython",
    "version": 3
   },
   "file_extension": ".py",
   "mimetype": "text/x-python",
   "name": "python",
   "nbconvert_exporter": "python",
   "pygments_lexer": "ipython3",
   "version": "3.8.10"
  }
 },
 "nbformat": 4,
 "nbformat_minor": 5
}
